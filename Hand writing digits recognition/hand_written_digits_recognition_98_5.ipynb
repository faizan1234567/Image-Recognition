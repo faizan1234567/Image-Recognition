{
  "cells": [
    {
      "cell_type": "code",
      "execution_count": null,
      "metadata": {
        "colab": {
          "background_save": true
        },
        "id": "oaFzS1OeaghT"
      },
      "outputs": [],
      "source": [
        "#hand writing digits recogntion using convnet\n",
        "\n",
        "\n",
        "\"\"\"\n",
        "When 99.8% accuracy has been hit, print out the string \"Reached 99.8% accuracy so cancelling training!\"\n",
        "**Things to Note:**\n",
        "1. When coding the `class myCallback`, Python 3 will run into an error\n",
        "```python\n",
        "TypeError: '>' not supported between instances of 'NoneType' and 'float'\n",
        "```\n",
        "when using the code\n",
        "```python\n",
        "if(logs.get('accuracy')>0.99):\n",
        "```\n",
        "For Python 3, use the following equivalent code line\n",
        "```python\n",
        "if logs.get('accuracy') is not None and logs.get('accuracy') > 0.99:\n",
        "```\n",
        "2. You can run the notebook using TensorFlow 2.5.0\n",
        "\"\"\"\n",
        "\n",
        "#!pip install tensorflow==2.5.0\n",
        "\n",
        "import tensorflow as tf\n",
        "\n",
        "print(tf.__version__)\n",
        "\n",
        "# mnist = tf.keras.datasets.mnist\n",
        "# (_,_), (test_images, test_labels) = mnist.load_data()\n",
        "# test_images = test_images/255.0\n",
        "# test_images.shape\n",
        "\n",
        "\n",
        "def train_mnist_conv():\n",
        "    \n",
        "    \n",
        "    class mycallback(tf.keras.callbacks.Callback):\n",
        "      def on_epoch_end(self, epoch, logs = {}):\n",
        "        if(logs.get('accuracy') is not None and logs.get('accuracy')>0.998):\n",
        "          print('\\nReach 99.8% accuracy!, so canceling training')\n",
        "          self.model.stop_training = True\n",
        "    \n",
        "    \n",
        "\n",
        "    mnist = tf.keras.datasets.mnist\n",
        "    (training_images, training_labels), (test_images, test_labels) = mnist.load_data()\n",
        "   \n",
        "    \n",
        "    training_images = training_images/255.0\n",
        "    test_images = test_images/255.0\n",
        "\n",
        "    \n",
        "    global model\n",
        "    model = tf.keras.models.Sequential([\n",
        "            tf.keras.layers.Conv2D(64, (3,3), activation = 'relu', input_shape = (28,28,1)),\n",
        "            tf.keras.layers.MaxPooling2D((2,2)),\n",
        "            tf.keras.layers.Flatten(),\n",
        "            tf.keras.layers.Dense(120, activation = 'relu'),\n",
        "            tf.keras.layers.Dense(10, activation = 'softmax'),\n",
        "    ])\n",
        "\n",
        "    model.compile(optimizer='adam', loss='sparse_categorical_crossentropy', metrics=['accuracy'])\n",
        "    callbacks = mycallback()\n",
        "    \n",
        "    history = model.fit(training_images,training_labels, epochs=20, callbacks = [callbacks])    \n",
        "    #print(model.evaluate(test_images, test_labels))\n",
        "    return history.epoch, history.history['accuracy'][-1], model\n",
        "\n"
      ]
    },
    {
      "cell_type": "code",
      "execution_count": null,
      "metadata": {
        "colab": {
          "base_uri": "https://localhost:8080/"
        },
        "id": "NtAUVR3XcCkl",
        "outputId": "8635180b-026f-4936-8d03-10e66ca71550"
      },
      "outputs": [
        {
          "name": "stdout",
          "output_type": "stream",
          "text": [
            "Epoch 1/20\n",
            "1875/1875 [==============================] - 5s 3ms/step - loss: 0.1358 - accuracy: 0.9588\n",
            "Epoch 2/20\n",
            "1875/1875 [==============================] - 5s 3ms/step - loss: 0.0483 - accuracy: 0.9851\n",
            "Epoch 3/20\n",
            "1875/1875 [==============================] - 5s 3ms/step - loss: 0.0289 - accuracy: 0.9909\n",
            "Epoch 4/20\n",
            "1875/1875 [==============================] - 6s 3ms/step - loss: 0.0196 - accuracy: 0.9939\n",
            "Epoch 5/20\n",
            "1875/1875 [==============================] - 5s 3ms/step - loss: 0.0128 - accuracy: 0.9961\n",
            "Epoch 6/20\n",
            "1875/1875 [==============================] - 5s 3ms/step - loss: 0.0100 - accuracy: 0.9970\n",
            "Epoch 7/20\n",
            "1875/1875 [==============================] - 5s 3ms/step - loss: 0.0080 - accuracy: 0.9975\n",
            "Epoch 8/20\n",
            "1875/1875 [==============================] - 5s 3ms/step - loss: 0.0061 - accuracy: 0.9978\n",
            "Epoch 9/20\n",
            "1870/1875 [============================>.] - ETA: 0s - loss: 0.0048 - accuracy: 0.9984\n",
            "Reach 99.8% accuracy!, so canceling training\n",
            "1875/1875 [==============================] - 5s 3ms/step - loss: 0.0048 - accuracy: 0.9984\n"
          ]
        }
      ],
      "source": [
        "epochs, accuracy, model= train_mnist_conv()\n",
        "\n"
      ]
    },
    {
      "cell_type": "code",
      "source": [
        "type(epochs)\n",
        "accuracy"
      ],
      "metadata": {
        "colab": {
          "base_uri": "https://localhost:8080/"
        },
        "id": "vfFnfQfHd7_y",
        "outputId": "4cd47e56-d485-4ff5-f474-60e7a4f980cb"
      },
      "execution_count": 13,
      "outputs": [
        {
          "output_type": "execute_result",
          "data": {
            "text/plain": [
              "0.9857000112533569"
            ]
          },
          "metadata": {},
          "execution_count": 13
        }
      ]
    },
    {
      "cell_type": "code",
      "execution_count": 9,
      "metadata": {
        "id": "QK4bCgcHdWMH",
        "colab": {
          "base_uri": "https://localhost:8080/"
        },
        "outputId": "3f86e8f5-3b65-455f-aa56-b9279feda0ce"
      },
      "outputs": [
        {
          "output_type": "stream",
          "name": "stdout",
          "text": [
            "Model: \"sequential_3\"\n",
            "_________________________________________________________________\n",
            " Layer (type)                Output Shape              Param #   \n",
            "=================================================================\n",
            " conv2d_3 (Conv2D)           (None, 26, 26, 64)        640       \n",
            "                                                                 \n",
            " max_pooling2d_3 (MaxPooling  (None, 13, 13, 64)       0         \n",
            " 2D)                                                             \n",
            "                                                                 \n",
            " flatten_3 (Flatten)         (None, 10816)             0         \n",
            "                                                                 \n",
            " dense_6 (Dense)             (None, 120)               1298040   \n",
            "                                                                 \n",
            " dense_7 (Dense)             (None, 10)                1210      \n",
            "                                                                 \n",
            "=================================================================\n",
            "Total params: 1,299,890\n",
            "Trainable params: 1,299,890\n",
            "Non-trainable params: 0\n",
            "_________________________________________________________________\n"
          ]
        }
      ],
      "source": [
        "model.summary()"
      ]
    },
    {
      "cell_type": "code",
      "execution_count": 20,
      "metadata": {
        "colab": {
          "base_uri": "https://localhost:8080/",
          "height": 317
        },
        "id": "0jnOqe6JcGx3",
        "outputId": "5e817dce-ac0f-495e-ac9d-0bb13fd6dabf"
      },
      "outputs": [
        {
          "output_type": "stream",
          "name": "stdout",
          "text": [
            "313/313 [==============================] - 1s 3ms/step - loss: 0.0517 - accuracy: 0.9857\n",
            "test accuracy: 0.9857000112533569\n",
            "image label: 4\n"
          ]
        },
        {
          "output_type": "display_data",
          "data": {
            "image/png": "[encoded data removed]",
            "text/plain": [
              "<Figure size 432x288 with 1 Axes>"
            ]
          },
          "metadata": {
            "needs_background": "light"
          }
        }
      ],
      "source": [
        "loss, accuracy = model.evaluate(test_images, test_labels)\n",
        "import numpy as np\n",
        "index = np.random.randint(1000)\n",
        "print('test accuracy: {}'.format(accuracy))\n",
        "\n",
        "import matplotlib.pyplot as plt\n",
        "plt.imshow(test_images[index], cmap = 'gray')\n",
        "print(f'image label: {test_labels[index]}')"
      ]
    },
    {
      "cell_type": "code",
      "execution_count": 20,
      "metadata": {
        "id": "gDYcQqJacbqM"
      },
      "outputs": [],
      "source": [
        ""
      ]
    }
  ],
  "metadata": {
    "accelerator": "GPU",
    "colab": {
      "name": "hand_written_digits_recognition_98.5.ipynb",
      "provenance": []
    },
    "kernelspec": {
      "display_name": "Python 3",
      "name": "python3"
    },
    "language_info": {
      "name": "python"
    }
  },
  "nbformat": 4,
  "nbformat_minor": 0
}