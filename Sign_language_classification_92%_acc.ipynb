{
  "nbformat": 4,
  "nbformat_minor": 0,
  "metadata": {
    "colab": {
      "name": "C2_W4_Assignment.ipynb",
      "provenance": [],
      "collapsed_sections": [],
      "toc_visible": true
    },
    "kernelspec": {
      "display_name": "Python 3",
      "language": "python",
      "name": "python3"
    },
    "language_info": {
      "codemirror_mode": {
        "name": "ipython",
        "version": 3
      },
      "file_extension": ".py",
      "mimetype": "text/x-python",
      "name": "python",
      "nbconvert_exporter": "python",
      "pygments_lexer": "ipython3",
      "version": "3.8.5"
    },
    "accelerator": "GPU"
  },
  "cells": [
    {
      "cell_type": "code",
      "metadata": {
        "id": "zX4Kg8DUTKWO"
      },
      "source": [
        "# MULTICLASS CLASSIFICATION PROBLEM"
      ],
      "execution_count": null,
      "outputs": []
    },
    {
      "cell_type": "markdown",
      "metadata": {
        "id": "KGYHjVbZHv1G"
      },
      "source": [
        "**IMPORTANT NOTE:** This notebook is designed to run as a Colab. Click the button on top that says, `Open in Colab`, to run this notebook as a Colab. Running the notebook on your local machine might result in some of the code blocks throwing errors."
      ]
    },
    {
      "cell_type": "code",
      "metadata": {
        "id": "wYtuKeK0dImp"
      },
      "source": [
        "import csv\n",
        "import numpy as np\n",
        "import tensorflow as tf\n",
        "from tensorflow.keras.preprocessing.image import ImageDataGenerator\n",
        "from google.colab import files"
      ],
      "execution_count": 1,
      "outputs": []
    },
    {
      "cell_type": "code",
      "metadata": {
        "id": "4kxw-_rmcnVu",
        "outputId": "bef4ec64-6bd4-4e74-e15a-a7b129ae5c6d",
        "colab": {
          "base_uri": "https://localhost:8080/"
        }
      },
      "source": [
        "# sign_mnist_train.csv\n",
        "!gdown --id 1z0DkA9BytlLxO1C0BAWzknLyQmZAp0HR\n",
        "# sign_mnist_test.csv\n",
        "!gdown --id 1z1BIj4qmri59GWBG4ivMNFtpZ4AXIbzg\n",
        "\n",
        "def get_data(filename):\n",
        "  # You will need to write code that will read the file passed\n",
        "  # into this function. The first line contains the column headers\n",
        "  # so you should ignore it\n",
        "  # Each successive line contians 785 comma separated values between 0 and 255\n",
        "  # The first value is the label\n",
        "  # The rest are the pixel values for that picture\n",
        "  # The function will return 2 np.array types. One with all the labels\n",
        "  # One with all the images\n",
        "  #\n",
        "  # Tips: \n",
        "  # If you read a full line (as 'row') then row[0] has the label\n",
        "  # and row[1:785] has the 784 pixel values\n",
        "  # Take a look at np.array_split to turn the 784 pixels into 28x28\n",
        "  # You are reading in strings, but need the values to be floats\n",
        "  # Check out np.array().astype for a conversion\n",
        "    with open(filename) as training_file:\n",
        "      csv_reader = csv.reader(training_file, delimiter=',')\n",
        "      first_line = True\n",
        "      temp_images = []\n",
        "      temp_labels = []\n",
        "      for row in csv_reader:\n",
        "          if first_line:\n",
        "                # print(\"Ignoring first line\")\n",
        "              first_line = False\n",
        "          else:\n",
        "              temp_labels.append(row[0])\n",
        "              image_data = row[1:785]\n",
        "              image_data_as_array = np.array_split(image_data, 28)\n",
        "              temp_images.append(image_data_as_array)\n",
        "      images = np.array(temp_images).astype('float')\n",
        "      labels = np.array(temp_labels).astype('float')\n",
        "      ### START CODE HERE\n",
        "\n",
        "\n",
        "      ### END CODE HERE\n",
        "    return images, labels\n",
        "\n",
        "\n",
        "training_images, training_labels = get_data('./sign_mnist_train.csv')\n",
        "testing_images, testing_labels = get_data('./sign_mnist_test.csv')\n",
        "\n",
        "# Keep these\n",
        "print(training_images.shape)\n",
        "print(training_labels.shape)\n",
        "print(testing_images.shape)\n",
        "print(testing_labels.shape)\n",
        "\n",
        "# Their output should be:\n",
        "# (27455, 28, 28)\n",
        "# (27455,)\n",
        "# (7172, 28, 28)\n",
        "# (7172,)"
      ],
      "execution_count": 2,
      "outputs": [
        {
          "output_type": "stream",
          "name": "stdout",
          "text": [
            "Downloading...\n",
            "From: https://drive.google.com/uc?id=1z0DkA9BytlLxO1C0BAWzknLyQmZAp0HR\n",
            "To: /content/sign_mnist_train.csv\n",
            "100% 83.3M/83.3M [00:00<00:00, 162MB/s]\n",
            "Downloading...\n",
            "From: https://drive.google.com/uc?id=1z1BIj4qmri59GWBG4ivMNFtpZ4AXIbzg\n",
            "To: /content/sign_mnist_test.csv\n",
            "100% 21.8M/21.8M [00:00<00:00, 132MB/s]\n",
            "(27455, 28, 28)\n",
            "(27455,)\n",
            "(7172, 28, 28)\n",
            "(7172,)\n"
          ]
        }
      ]
    },
    {
      "cell_type": "code",
      "metadata": {
        "id": "awoqRpyZdQkD",
        "outputId": "a8ab2099-76ae-4fa7-c3e6-d9b9344809c1",
        "colab": {
          "base_uri": "https://localhost:8080/"
        }
      },
      "source": [
        "# In this section you will have to add another dimension to the data\n",
        "# So, for example, if your array is (10000, 28, 28)\n",
        "# You will need to make it (10000, 28, 28, 1)\n",
        "# Hint: np.expand_dims\n",
        "\n",
        "training_images = np.expand_dims(training_images, 3)\n",
        "testing_images =  np.expand_dims(testing_images, 3)\n",
        "\n",
        "train_datagen = ImageDataGenerator(rescale = 1/255,\n",
        "                                   height_shift_range= 0.2,\n",
        "                                   width_shift_range= 0.2,\n",
        "                                   rotation_range= 40,\n",
        "                                   shear_range = 0.2,\n",
        "                                   zoom_range = 0.2,\n",
        "                                   horizontal_flip = True,\n",
        "                                   fill_mode = 'nearest'\n",
        "    ### YOUR CODE HERE\n",
        "    )\n",
        "\n",
        "validation_datagen = ImageDataGenerator(rescale = 1/255\n",
        "    ### YOUR CODE HERE\n",
        "    )\n",
        "\n",
        "# Keep These\n",
        "print(training_images.shape)\n",
        "print(testing_images.shape)\n",
        "    \n",
        "# Their output should be:\n",
        "# (27455, 28, 28, 1)\n",
        "# (7172, 28, 28, 1)"
      ],
      "execution_count": 4,
      "outputs": [
        {
          "output_type": "stream",
          "name": "stdout",
          "text": [
            "(27455, 28, 28, 1)\n",
            "(7172, 28, 28, 1)\n"
          ]
        }
      ]
    },
    {
      "cell_type": "code",
      "metadata": {
        "id": "Rmb7S32cgRqS",
        "outputId": "b72e529c-8799-401c-d1ae-a758a55558c6",
        "colab": {
          "base_uri": "https://localhost:8080/"
        }
      },
      "source": [
        "# Define the model\n",
        "# Use no more than 2 Conv2D and 2 MaxPooling2D\n",
        "model = tf.keras.models.Sequential([tf.keras.layers.Conv2D(64, (3,3), activation= 'relu', input_shape = (28,28,1)),\n",
        "                                    tf.keras.layers.MaxPooling2D(2,2),\n",
        "                                    tf.keras.layers.Conv2D(64, (3,3), activation= 'relu'),\n",
        "                                    tf.keras.layers.MaxPooling2D(2,2),\n",
        "                                    tf.keras.layers.Flatten(),\n",
        "                                    tf.keras.layers.Dense(128, activation = 'relu'),\n",
        "                                    tf.keras.layers.Dense(26, activation = 'softmax')]\n",
        "    ### START CODE HERE                                \n",
        "    \n",
        "    \n",
        "    ### END CODE HERE\n",
        "    )\n",
        "\n",
        "model.compile(optimizer = tf.keras.optimizers.RMSprop(learning_rate= 0.001),\n",
        "              loss = 'sparse_categorical_crossentropy',\n",
        "              metrics = ['accuracy'])\n",
        "batch_size =32\n",
        "history = model.fit(train_datagen.flow(training_images, training_labels, batch_size =batch_size),\n",
        "                    steps_per_epoch = (len(training_images)/batch_size),\n",
        "                    epochs=15,\n",
        "                    validation_data = validation_datagen.flow(testing_images, testing_labels, batch_size= batch_size),\n",
        "                    validation_steps = len(testing_images)/batch_size)\n",
        "\n",
        "model.evaluate(testing_images, testing_labels)\n",
        "\n",
        "# The output from model.evaluate should be close to:\n",
        "# [6.92426086682151, 0.56609035]\n"
      ],
      "execution_count": 6,
      "outputs": [
        {
          "output_type": "stream",
          "name": "stdout",
          "text": [
            "Epoch 1/15\n",
            "857/857 [==============================] - 30s 24ms/step - loss: 2.7937 - accuracy: 0.1565 - val_loss: 2.1593 - val_accuracy: 0.2578\n",
            "Epoch 2/15\n",
            "857/857 [==============================] - 22s 25ms/step - loss: 2.0949 - accuracy: 0.3463 - val_loss: 1.3158 - val_accuracy: 0.5569\n",
            "Epoch 3/15\n",
            "857/857 [==============================] - 20s 24ms/step - loss: 1.6879 - accuracy: 0.4651 - val_loss: 1.0844 - val_accuracy: 0.6386\n",
            "Epoch 4/15\n",
            "857/857 [==============================] - 21s 25ms/step - loss: 1.4003 - accuracy: 0.5509 - val_loss: 0.7967 - val_accuracy: 0.7366\n",
            "Epoch 5/15\n",
            "857/857 [==============================] - 19s 22ms/step - loss: 1.2116 - accuracy: 0.6070 - val_loss: 0.7539 - val_accuracy: 0.7408\n",
            "Epoch 6/15\n",
            "857/857 [==============================] - 19s 22ms/step - loss: 1.0730 - accuracy: 0.6468 - val_loss: 0.5265 - val_accuracy: 0.8176\n",
            "Epoch 7/15\n",
            "857/857 [==============================] - 19s 23ms/step - loss: 0.9579 - accuracy: 0.6887 - val_loss: 0.5039 - val_accuracy: 0.8352\n",
            "Epoch 8/15\n",
            "857/857 [==============================] - 20s 24ms/step - loss: 0.8686 - accuracy: 0.7129 - val_loss: 0.4031 - val_accuracy: 0.8603\n",
            "Epoch 9/15\n",
            "857/857 [==============================] - 21s 24ms/step - loss: 0.8091 - accuracy: 0.7359 - val_loss: 0.4119 - val_accuracy: 0.8493\n",
            "Epoch 10/15\n",
            "857/857 [==============================] - 21s 25ms/step - loss: 0.7457 - accuracy: 0.7598 - val_loss: 0.4157 - val_accuracy: 0.8436\n",
            "Epoch 11/15\n",
            "857/857 [==============================] - 19s 22ms/step - loss: 0.6988 - accuracy: 0.7708 - val_loss: 0.3553 - val_accuracy: 0.8731\n",
            "Epoch 12/15\n",
            "857/857 [==============================] - 19s 22ms/step - loss: 0.6537 - accuracy: 0.7870 - val_loss: 0.3370 - val_accuracy: 0.8744\n",
            "Epoch 13/15\n",
            "857/857 [==============================] - 21s 24ms/step - loss: 0.6186 - accuracy: 0.7953 - val_loss: 0.3368 - val_accuracy: 0.8804\n",
            "Epoch 14/15\n",
            "857/857 [==============================] - 20s 23ms/step - loss: 0.5904 - accuracy: 0.8062 - val_loss: 0.2214 - val_accuracy: 0.9159\n",
            "Epoch 15/15\n",
            "857/857 [==============================] - 20s 24ms/step - loss: 0.5600 - accuracy: 0.8154 - val_loss: 0.2225 - val_accuracy: 0.9236\n",
            "225/225 [==============================] - 1s 6ms/step - loss: 198.1083 - accuracy: 0.6916\n"
          ]
        },
        {
          "output_type": "execute_result",
          "data": {
            "text/plain": [
              "[198.10829162597656, 0.6915783882141113]"
            ]
          },
          "metadata": {},
          "execution_count": 6
        }
      ]
    },
    {
      "cell_type": "code",
      "metadata": {
        "id": "_Q3Zpr46dsij",
        "outputId": "fd800877-b799-403f-be2c-7f53a5205576",
        "colab": {
          "base_uri": "https://localhost:8080/",
          "height": 545
        }
      },
      "source": [
        "# Plot the chart for accuracy and loss on both training and validation\n",
        "\n",
        "import matplotlib.pyplot as plt\n",
        "acc = history.history['accuracy']\n",
        "val_acc = history.history['val_accuracy']\n",
        "loss = history.history['loss']\n",
        "val_loss = history.history['val_loss']\n",
        "\n",
        "epochs = range(len(acc))\n",
        "\n",
        "plt.plot(epochs, acc, 'r', label='Training accuracy')\n",
        "plt.plot(epochs, val_acc, 'b', label='Validation accuracy')\n",
        "plt.title('Training and validation accuracy')\n",
        "plt.legend()\n",
        "plt.figure()\n",
        "\n",
        "plt.plot(epochs, loss, 'r', label='Training Loss')\n",
        "plt.plot(epochs, val_loss, 'b', label='Validation Loss')\n",
        "plt.title('Training and validation loss')\n",
        "plt.legend()\n",
        "\n",
        "plt.show()"
      ],
      "execution_count": 8,
      "outputs": [
        {
          "output_type": "display_data",
          "data": {
            "image/png": "[encoded data removed]",
            "text/plain": [
              "<Figure size 432x288 with 1 Axes>"
            ]
          },
          "metadata": {
            "needs_background": "light"
          }
        },
        {
          "output_type": "display_data",
          "data": {
            "image/png": "[encoded data removed]",
            "text/plain": [
              "<Figure size 432x288 with 1 Axes>"
            ]
          },
          "metadata": {
            "needs_background": "light"
          }
        }
      ]
    }
  ]
}